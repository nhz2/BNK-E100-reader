{
 "cells": [
  {
   "cell_type": "code",
   "execution_count": 1,
   "metadata": {},
   "outputs": [],
   "source": [
    "import serial\n",
    "import numpy as np\n",
    "import bnkreader\n",
    "import time"
   ]
  },
  {
   "cell_type": "code",
   "execution_count": 2,
   "metadata": {},
   "outputs": [
    {
     "name": "stdout",
     "output_type": "stream",
     "text": [
      "LICENSE              data analysis.ipynb  \u001b[31mrecording.bin\u001b[m\u001b[m*\r\n",
      "README.md            \u001b[34mdiagrams\u001b[m\u001b[m/            recording.ipynb\r\n",
      "\u001b[34m__pycache__\u001b[m\u001b[m/         example_script.py    testfile.bin\r\n",
      "bnkreader.py         \u001b[34mfirmware\u001b[m\u001b[m/\r\n"
     ]
    }
   ],
   "source": [
    "ls"
   ]
  },
  {
   "cell_type": "code",
   "execution_count": 3,
   "metadata": {},
   "outputs": [
    {
     "name": "stdout",
     "output_type": "stream",
     "text": [
      "/dev/cu.usbmodem7655451\n"
     ]
    }
   ],
   "source": [
    "#connect to teensy\n",
    "portname=bnkreader.findteensy()\n",
    "print(portname)\n",
    "if (not portname):\n",
    "         print('no teensy found')\n",
    "else:\n",
    "    ser= serial.Serial(portname, 4000000, timeout=10)"
   ]
  },
  {
   "cell_type": "code",
   "execution_count": 4,
   "metadata": {},
   "outputs": [],
   "source": [
    "#set Vref voltage units volts\n",
    "bnkreader.dac_set_voltage(ser,0.7)"
   ]
  },
  {
   "cell_type": "code",
   "execution_count": 5,
   "metadata": {},
   "outputs": [
    {
     "name": "stdout",
     "output_type": "stream",
     "text": [
      "b'r40000,12500,1,1,101,103\\n'\n"
     ]
    },
    {
     "data": {
      "text/plain": [
       "40000.0"
      ]
     },
     "execution_count": 5,
     "metadata": {},
     "output_type": "execute_result"
    }
   ],
   "source": [
    "#start a recording\n",
    "framerate= 40000 #frame rate in Hz\n",
    "recordingtime= 10 #seconds to record for\n",
    "framechunks= int(framerate*recordingtime/32)\n",
    "auxchannel= 1 #aux channel\n",
    "adcrange= 1# adc range, 0 is 0V-2.5V, 1 is 0V-5V\n",
    "userdata0=101# just any 32 bit int number for user purposes\n",
    "userdata1=103# just any 32 bit int number for user purposes\n",
    "bnkreader.recording_start(ser,framerate,framechunks,auxchannel,adcrange,userdata0,userdata1)"
   ]
  },
  {
   "cell_type": "code",
   "execution_count": 6,
   "metadata": {},
   "outputs": [],
   "source": [
    "# The LED should turn green if the recording is running\n",
    "# if it turns blue a frame is skipped because the SD card is slow"
   ]
  },
  {
   "cell_type": "code",
   "execution_count": 11,
   "metadata": {},
   "outputs": [
    {
     "name": "stdout",
     "output_type": "stream",
     "text": [
      "recording?: 0\n",
      "chunks saved: 12500\n",
      "frames skipped: 0\n",
      "frame num: 399999\n",
      "max voltage: 4.998779\n",
      "userdata0: 101.000000\n",
      "userdata1: 103.000000\n",
      "Last saved frame(V):\n",
      "[[1.993 1.951 1.986 1.941 1.981 1.779 1.984 1.849 4.999 1.965 2.    1.951]\n",
      " [1.991 1.954 1.995 1.956 2.018 1.998 1.981 1.848 4.999 1.962 1.996 1.951]\n",
      " [1.995 1.949 1.989 1.948 2.007 1.964 1.984 1.848 4.999 1.962 1.996 1.952]\n",
      " [1.989 1.951 1.996 1.953 2.    1.949 1.981 1.847 4.999 1.963 1.995 1.953]\n",
      " [1.996 1.954 1.99  1.948 2.001 1.951 1.984 1.849 4.999 1.958 1.989 1.943]\n",
      " [1.989 1.947 1.993 1.952 2.002 1.951 1.982 1.847 4.999 1.959 1.998 1.948]\n",
      " [1.993 1.951 1.992 1.956 1.998 1.949 1.981 1.846 4.999 1.959 1.995 1.948]\n",
      " [1.987 1.952 1.985 1.947 2.001 1.949 1.982 1.847 4.999 1.96  1.991 1.949]\n",
      " [1.993 1.953 1.995 1.952 2.001 1.949 1.98  1.846 4.999 1.957 2.    1.951]\n",
      " [1.986 1.945 1.989 1.953 1.997 1.947 1.98  1.844 0.022 1.921 1.981 1.942]]\n"
     ]
    }
   ],
   "source": [
    "# Check status during or after recording\n",
    "(recording,chunkssaved,framesskipped,data)=bnkreader.status(ser)\n",
    "print(\"recording?: %d\"%recording)\n",
    "print(\"chunks saved: %d\"%chunkssaved)\n",
    "print(\"frames skipped: %d\"%framesskipped)\n",
    "(framenums,volts,channels,maxvoltage,userdata0s,userdata1s)=bnkreader.decodeframe(data)\n",
    "print(\"frame num: %d\"%framenums[0])\n",
    "print(\"max voltage: %f\"%maxvoltage)\n",
    "print(\"userdata0: %f\"%userdata0s[0])\n",
    "print(\"userdata1: %f\"%userdata1s[0])\n",
    "print(\"Last saved frame(V):\")\n",
    "np.set_printoptions(precision=3)\n",
    "print(volts[:,:,0])\n",
    "np.set_printoptions(precision=8)"
   ]
  },
  {
   "cell_type": "code",
   "execution_count": 15,
   "metadata": {},
   "outputs": [
    {
     "name": "stdout",
     "output_type": "stream",
     "text": [
      "saved chunk 1 of 12500\n",
      "saved chunk 1001 of 12500\n",
      "saved chunk 2001 of 12500\n",
      "saved chunk 3001 of 12500\n",
      "saved chunk 4001 of 12500\n",
      "saved chunk 5001 of 12500\n",
      "saved chunk 6001 of 12500\n",
      "saved chunk 7001 of 12500\n",
      "saved chunk 8001 of 12500\n",
      "saved chunk 9001 of 12500\n",
      "saved chunk 10001 of 12500\n",
      "saved chunk 11001 of 12500\n",
      "saved chunk 12001 of 12500\n"
     ]
    }
   ],
   "source": [
    "#save data to a file for latter processing, this may take some time\n",
    "#wait till recording is done\n",
    "(recording,chunkssaved,framesskipped,data)=bnkreader.status(ser)\n",
    "while recording==1:\n",
    "    time.sleep(1)\n",
    "    (recording,chunkssaved,framesskipped,data)=bnkreader.status(ser)\n",
    "with open('testfile.bin','wb') as f:\n",
    "    for chunkid in range(chunkssaved):\n",
    "        chunkdata=bnkreader.frame_chunk_readout(ser,chunkid)\n",
    "        f.write(chunkdata)\n",
    "        if(chunkid%1000 == 0):\n",
    "            print('saved chunk %d of %d'%(chunkid+1,chunkssaved))"
   ]
  },
  {
   "cell_type": "code",
   "execution_count": 16,
   "metadata": {},
   "outputs": [],
   "source": [
    "#Use this to abort a recording and eject the sd card\n",
    "#bnkreader.eject_card(ser)"
   ]
  },
  {
   "cell_type": "code",
   "execution_count": 17,
   "metadata": {},
   "outputs": [],
   "source": [
    "ser.close()"
   ]
  },
  {
   "cell_type": "code",
   "execution_count": null,
   "metadata": {},
   "outputs": [],
   "source": []
  }
 ],
 "metadata": {
  "kernelspec": {
   "display_name": "Python 3",
   "language": "python",
   "name": "python3"
  },
  "language_info": {
   "codemirror_mode": {
    "name": "ipython",
    "version": 3
   },
   "file_extension": ".py",
   "mimetype": "text/x-python",
   "name": "python",
   "nbconvert_exporter": "python",
   "pygments_lexer": "ipython3",
   "version": "3.7.1"
  }
 },
 "nbformat": 4,
 "nbformat_minor": 2
}

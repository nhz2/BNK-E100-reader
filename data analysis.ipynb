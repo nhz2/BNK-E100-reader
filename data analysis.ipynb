{
 "cells": [
  {
   "cell_type": "code",
   "execution_count": 1,
   "metadata": {},
   "outputs": [],
   "source": [
    "import numpy as np\n",
    "import bnkreader"
   ]
  },
  {
   "cell_type": "code",
   "execution_count": 2,
   "metadata": {},
   "outputs": [
    {
     "name": "stdout",
     "output_type": "stream",
     "text": [
      "LICENSE              data analysis.ipynb  \u001b[31mrecording.bin\u001b[m\u001b[m*\r\n",
      "README.md            \u001b[34mdiagrams\u001b[m\u001b[m/            recording.ipynb\r\n",
      "\u001b[34m__pycache__\u001b[m\u001b[m/         example_script.py    testfile.bin\r\n",
      "bnkreader.py         \u001b[34mfirmware\u001b[m\u001b[m/\r\n"
     ]
    }
   ],
   "source": [
    "ls"
   ]
  },
  {
   "cell_type": "code",
   "execution_count": 4,
   "metadata": {},
   "outputs": [],
   "source": [
    "with open('testfile.bin','rb') as f:\n",
    "    framedata=f.read()"
   ]
  },
  {
   "cell_type": "code",
   "execution_count": 6,
   "metadata": {},
   "outputs": [],
   "source": [
    "(framenums,volts,channels,maxvoltage,userdata0,userdata1)= bnkreader.decodeframe(framedata)"
   ]
  },
  {
   "cell_type": "code",
   "execution_count": 7,
   "metadata": {},
   "outputs": [
    {
     "data": {
      "text/plain": [
       "10"
      ]
     },
     "execution_count": 7,
     "metadata": {},
     "output_type": "execute_result"
    }
   ],
   "source": [
    "len(channels)"
   ]
  },
  {
   "cell_type": "code",
   "execution_count": 12,
   "metadata": {},
   "outputs": [
    {
     "data": {
      "text/plain": [
       "array([[1.9934082 , 1.95068359, 1.98608398, 1.94091797, 1.98120117,\n",
       "        1.77856445, 1.98364258, 1.84936523, 4.9987793 , 1.96533203,\n",
       "        1.99951172, 1.95068359],\n",
       "       [1.9909668 , 1.9543457 , 1.99462891, 1.95556641, 2.01782227,\n",
       "        1.99829102, 1.98120117, 1.84814453, 4.9987793 , 1.96166992,\n",
       "        1.99584961, 1.95068359],\n",
       "       [1.99462891, 1.94946289, 1.98852539, 1.94824219, 2.00683594,\n",
       "        1.96411133, 1.98364258, 1.84814453, 4.9987793 , 1.96166992,\n",
       "        1.99584961, 1.9519043 ],\n",
       "       [1.98852539, 1.95068359, 1.99584961, 1.953125  , 1.99951172,\n",
       "        1.94946289, 1.98120117, 1.84692383, 4.9987793 , 1.96289062,\n",
       "        1.99462891, 1.953125  ],\n",
       "       [1.99584961, 1.9543457 , 1.98974609, 1.94824219, 2.00073242,\n",
       "        1.95068359, 1.98364258, 1.84936523, 4.9987793 , 1.95800781,\n",
       "        1.98852539, 1.94335938],\n",
       "       [1.98852539, 1.94702148, 1.9934082 , 1.9519043 , 2.00195312,\n",
       "        1.95068359, 1.98242188, 1.84692383, 4.9987793 , 1.95922852,\n",
       "        1.99829102, 1.94824219],\n",
       "       [1.9934082 , 1.95068359, 1.9921875 , 1.95556641, 1.99829102,\n",
       "        1.94946289, 1.98120117, 1.84570312, 4.9987793 , 1.95922852,\n",
       "        1.99462891, 1.94824219],\n",
       "       [1.98730469, 1.9519043 , 1.98486328, 1.94702148, 2.00073242,\n",
       "        1.94946289, 1.98242188, 1.84692383, 4.9987793 , 1.96044922,\n",
       "        1.9909668 , 1.94946289],\n",
       "       [1.9934082 , 1.953125  , 1.99462891, 1.9519043 , 2.00073242,\n",
       "        1.94946289, 1.97998047, 1.84570312, 4.9987793 , 1.95678711,\n",
       "        1.99951172, 1.95068359],\n",
       "       [1.98608398, 1.94458008, 1.98852539, 1.953125  , 1.99707031,\n",
       "        1.94702148, 1.97998047, 1.84448242, 0.02197266, 1.92138672,\n",
       "        1.98120117, 1.94213867]])"
      ]
     },
     "execution_count": 12,
     "metadata": {},
     "output_type": "execute_result"
    }
   ],
   "source": [
    "volts[:,:,-1]"
   ]
  },
  {
   "cell_type": "code",
   "execution_count": 15,
   "metadata": {},
   "outputs": [
    {
     "data": {
      "text/plain": [
       "array([     0,      1,      2, ..., 399997, 399998, 399999], dtype=uint32)"
      ]
     },
     "execution_count": 15,
     "metadata": {},
     "output_type": "execute_result"
    }
   ],
   "source": [
    "framenums"
   ]
  },
  {
   "cell_type": "code",
   "execution_count": 18,
   "metadata": {},
   "outputs": [
    {
     "data": {
      "text/plain": [
       "True"
      ]
     },
     "execution_count": 18,
     "metadata": {},
     "output_type": "execute_result"
    }
   ],
   "source": [
    "all((framenums[1:-1]-framenums[0:-2])==1)"
   ]
  },
  {
   "cell_type": "code",
   "execution_count": null,
   "metadata": {},
   "outputs": [],
   "source": []
  }
 ],
 "metadata": {
  "kernelspec": {
   "display_name": "Python 3",
   "language": "python",
   "name": "python3"
  },
  "language_info": {
   "codemirror_mode": {
    "name": "ipython",
    "version": 3
   },
   "file_extension": ".py",
   "mimetype": "text/x-python",
   "name": "python",
   "nbconvert_exporter": "python",
   "pygments_lexer": "ipython3",
   "version": "3.7.1"
  }
 },
 "nbformat": 4,
 "nbformat_minor": 2
}

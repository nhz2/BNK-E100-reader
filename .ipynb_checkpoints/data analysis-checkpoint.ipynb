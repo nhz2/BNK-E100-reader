{
 "cells": [
  {
   "cell_type": "code",
   "execution_count": 1,
   "metadata": {},
   "outputs": [],
   "source": [
    "import serial\n",
    "import numpy as np\n",
    "import bnkreader"
   ]
  },
  {
   "cell_type": "code",
   "execution_count": 2,
   "metadata": {},
   "outputs": [
    {
     "name": "stdout",
     "output_type": "stream",
     "text": [
      "LICENSE              bnkreader.py         example_script.py\r\n",
      "README.md            data analysis.ipynb  \u001b[34mfirmware\u001b[m\u001b[m/\r\n",
      "\u001b[34m__pycache__\u001b[m\u001b[m/         \u001b[34mdiagrams\u001b[m\u001b[m/            \u001b[31mrecording.bin\u001b[m\u001b[m*\r\n"
     ]
    }
   ],
   "source": [
    "ls"
   ]
  },
  {
   "cell_type": "code",
   "execution_count": 30,
   "metadata": {},
   "outputs": [],
   "source": [
    "with open('recording.bin','rb') as f:\n",
    "    framedata=f.read()"
   ]
  },
  {
   "cell_type": "code",
   "execution_count": 31,
   "metadata": {},
   "outputs": [],
   "source": [
    "(framenums,volts,channels,maxvoltage)= bnkreader.decodeframe(framedata)"
   ]
  },
  {
   "cell_type": "code",
   "execution_count": 32,
   "metadata": {},
   "outputs": [
    {
     "data": {
      "text/plain": [
       "10"
      ]
     },
     "execution_count": 32,
     "metadata": {},
     "output_type": "execute_result"
    }
   ],
   "source": [
    "len(channels)"
   ]
  },
  {
   "cell_type": "code",
   "execution_count": 46,
   "metadata": {},
   "outputs": [
    {
     "data": {
      "text/plain": [
       "array([[4.9987793 , 1.96777344, 2.00439453, 1.95556641, 1.99584961,\n",
       "        1.953125  , 1.99707031, 1.95922852, 2.01782227, 1.9934082 ,\n",
       "        1.84448242, 1.44775391],\n",
       "       [4.9987793 , 1.96533203, 1.99462891, 1.94458008, 1.98974609,\n",
       "        1.94702148, 1.9921875 , 1.9519043 , 2.00439453, 1.96044922,\n",
       "        1.84204102, 1.44775391],\n",
       "       [4.9987793 , 1.96166992, 1.9934082 , 1.94702148, 1.99462891,\n",
       "        1.95068359, 1.98974609, 1.953125  , 1.99829102, 1.94824219,\n",
       "        1.83837891, 1.44775391],\n",
       "       [4.9987793 , 1.96166992, 1.9921875 , 1.94824219, 1.98974609,\n",
       "        1.9519043 , 1.9921875 , 1.94946289, 1.99951172, 1.94946289,\n",
       "        1.8359375 , 1.44775391],\n",
       "       [4.9987793 , 1.95922852, 1.98730469, 1.94702148, 1.99707031,\n",
       "        1.95556641, 1.98974609, 1.9519043 , 1.99951172, 1.94824219,\n",
       "        1.8347168 , 1.44775391],\n",
       "       [4.9987793 , 1.95800781, 1.99584961, 1.94824219, 1.98974609,\n",
       "        1.94702148, 1.99462891, 1.95556641, 1.99829102, 1.94702148,\n",
       "        1.84326172, 1.4465332 ],\n",
       "       [4.9987793 , 1.95800781, 1.9934082 , 1.95068359, 1.99707031,\n",
       "        1.9519043 , 1.98974609, 1.94946289, 2.00073242, 1.94824219,\n",
       "        1.84082031, 1.44775391],\n",
       "       [4.9987793 , 1.95800781, 1.9909668 , 1.94946289, 1.9921875 ,\n",
       "        1.953125  , 1.99584961, 1.9543457 , 1.99829102, 1.94824219,\n",
       "        1.83837891, 1.44775391],\n",
       "       [4.9987793 , 1.95922852, 1.99829102, 1.9519043 , 1.98730469,\n",
       "        1.94702148, 1.98974609, 1.94946289, 1.99829102, 1.94824219,\n",
       "        1.83837891, 1.44775391],\n",
       "       [1.98730469, 1.94702148, 1.9909668 , 1.9519043 , 2.00195312,\n",
       "        1.94946289, 1.83837891, 1.44775391, 0.01953125, 1.91894531,\n",
       "        1.97875977, 1.94335938]])"
      ]
     },
     "execution_count": 46,
     "metadata": {},
     "output_type": "execute_result"
    }
   ],
   "source": [
    "volts[:,:,-1]"
   ]
  },
  {
   "cell_type": "code",
   "execution_count": null,
   "metadata": {},
   "outputs": [],
   "source": []
  }
 ],
 "metadata": {
  "kernelspec": {
   "display_name": "Python 3",
   "language": "python",
   "name": "python3"
  },
  "language_info": {
   "codemirror_mode": {
    "name": "ipython",
    "version": 3
   },
   "file_extension": ".py",
   "mimetype": "text/x-python",
   "name": "python",
   "nbconvert_exporter": "python",
   "pygments_lexer": "ipython3",
   "version": "3.7.1"
  }
 },
 "nbformat": 4,
 "nbformat_minor": 2
}
